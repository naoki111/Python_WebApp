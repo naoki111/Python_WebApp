{
 "cells": [
  {
   "cell_type": "code",
   "execution_count": 54,
   "id": "9e8df0d8",
   "metadata": {},
   "outputs": [],
   "source": [
    "import sqlite3"
   ]
  },
  {
   "cell_type": "code",
   "execution_count": 55,
   "id": "17b9da32",
   "metadata": {},
   "outputs": [],
   "source": [
    "con  = sqlite3.connect('./test_db')"
   ]
  },
  {
   "cell_type": "code",
   "execution_count": 56,
   "id": "58770052",
   "metadata": {},
   "outputs": [
    {
     "name": "stdout",
     "output_type": "stream",
     "text": [
      "(1, 'name_a', 10.5)\n",
      "1\n",
      "1\n",
      "1\n",
      "1\n",
      "name_a\n",
      "name_a\n",
      "name_a\n",
      "name_a\n",
      "10.5\n",
      "10.5\n",
      "10.5\n",
      "10.5\n",
      "(3, 'c_update', 3.14)\n",
      "3\n",
      "3\n",
      "3\n",
      "3\n",
      "c_update\n",
      "c_update\n",
      "c_update\n",
      "c_update\n",
      "3.14\n",
      "3.14\n",
      "3.14\n",
      "3.14\n",
      "(4, 'from_model', 100.0)\n",
      "4\n",
      "4\n",
      "4\n",
      "4\n",
      "from_model\n",
      "from_model\n",
      "from_model\n",
      "from_model\n",
      "100.0\n",
      "100.0\n",
      "100.0\n",
      "100.0\n",
      "(100, 'name_z', 99.9)\n",
      "100\n",
      "100\n",
      "100\n",
      "100\n",
      "name_z\n",
      "name_z\n",
      "name_z\n",
      "name_z\n",
      "99.9\n",
      "99.9\n",
      "99.9\n",
      "99.9\n"
     ]
    }
   ],
   "source": [
    "cur = con.cursor()\n",
    "for row in cur.execute('select * from person'):\n",
    "    print(row)\n",
    "    for column in row:\n",
    "        print(column)\n",
    "        for coulum in row:\n",
    "            print(column)"
   ]
  },
  {
   "cell_type": "code",
   "execution_count": 57,
   "id": "45e58867",
   "metadata": {},
   "outputs": [],
   "source": [
    "insert_sql = ' INSERT INTO person VALUES(?, ?, ?)'"
   ]
  },
  {
   "cell_type": "code",
   "execution_count": 58,
   "id": "54d70b19",
   "metadata": {},
   "outputs": [],
   "source": [
    "insert_param = (100, 'name_z', 99.9)"
   ]
  },
  {
   "cell_type": "code",
   "execution_count": 59,
   "id": "1e88a03f",
   "metadata": {},
   "outputs": [
    {
     "ename": "IntegrityError",
     "evalue": "UNIQUE constraint failed: person.id",
     "output_type": "error",
     "traceback": [
      "\u001b[0;31m---------------------------------------------------------------------------\u001b[0m",
      "\u001b[0;31mIntegrityError\u001b[0m                            Traceback (most recent call last)",
      "Input \u001b[0;32mIn [59]\u001b[0m, in \u001b[0;36m<cell line: 1>\u001b[0;34m()\u001b[0m\n\u001b[0;32m----> 1\u001b[0m \u001b[43mcur\u001b[49m\u001b[38;5;241;43m.\u001b[39;49m\u001b[43mexecute\u001b[49m\u001b[43m(\u001b[49m\u001b[43minsert_sql\u001b[49m\u001b[43m,\u001b[49m\u001b[43m \u001b[49m\u001b[43minsert_param\u001b[49m\u001b[43m)\u001b[49m\n",
      "\u001b[0;31mIntegrityError\u001b[0m: UNIQUE constraint failed: person.id"
     ]
    }
   ],
   "source": [
    "cur.execute(insert_sql, insert_param)"
   ]
  },
  {
   "cell_type": "code",
   "execution_count": 60,
   "id": "137ef5fd",
   "metadata": {},
   "outputs": [],
   "source": [
    "con.commit()"
   ]
  },
  {
   "cell_type": "code",
   "execution_count": 61,
   "id": "cb0754a4",
   "metadata": {},
   "outputs": [
    {
     "data": {
      "text/plain": [
       "<sqlite3.Cursor at 0x7fddebf2a6c0>"
      ]
     },
     "execution_count": 61,
     "metadata": {},
     "output_type": "execute_result"
    }
   ],
   "source": [
    "cur.execute('select * from person where size > :size', {'size':10})"
   ]
  },
  {
   "cell_type": "code",
   "execution_count": 62,
   "id": "d648f0b7",
   "metadata": {},
   "outputs": [
    {
     "name": "stdout",
     "output_type": "stream",
     "text": [
      "[(1, 'name_a', 10.5), (4, 'from_model', 100.0), (100, 'name_z', 99.9)]\n"
     ]
    }
   ],
   "source": [
    "print(cur.fetchall())"
   ]
  },
  {
   "cell_type": "code",
   "execution_count": 63,
   "id": "e1d84488",
   "metadata": {},
   "outputs": [],
   "source": [
    "#con.close()"
   ]
  },
  {
   "cell_type": "code",
   "execution_count": 64,
   "id": "813c8b31",
   "metadata": {},
   "outputs": [],
   "source": [
    "#cur.execute('select * from person where size > :size', {'size':10})"
   ]
  },
  {
   "cell_type": "code",
   "execution_count": 65,
   "id": "ab6f8b3e",
   "metadata": {},
   "outputs": [],
   "source": [
    "insert_sql = ' update person set name = ? where id = ?'"
   ]
  },
  {
   "cell_type": "code",
   "execution_count": 66,
   "id": "4565a148",
   "metadata": {},
   "outputs": [],
   "source": [
    "insert_param = ('changed_name',1)"
   ]
  },
  {
   "cell_type": "code",
   "execution_count": 67,
   "id": "fc5abe26",
   "metadata": {},
   "outputs": [
    {
     "data": {
      "text/plain": [
       "<sqlite3.Cursor at 0x7fddebf2a6c0>"
      ]
     },
     "execution_count": 67,
     "metadata": {},
     "output_type": "execute_result"
    }
   ],
   "source": [
    "cur.execute(insert_sql, insert_param)"
   ]
  },
  {
   "cell_type": "code",
   "execution_count": 68,
   "id": "1db093a3",
   "metadata": {},
   "outputs": [
    {
     "name": "stdout",
     "output_type": "stream",
     "text": [
      "(1, 'changed_name', 10.5)\n",
      "(3, 'c_update', 3.14)\n",
      "(4, 'from_model', 100.0)\n",
      "(100, 'name_z', 99.9)\n"
     ]
    }
   ],
   "source": [
    "for row in cur.execute('select * from person'):\n",
    "    print(row)"
   ]
  },
  {
   "cell_type": "code",
   "execution_count": 69,
   "id": "e50997a7",
   "metadata": {},
   "outputs": [],
   "source": [
    "delete_sql = 'delete from person where id = 100'"
   ]
  },
  {
   "cell_type": "code",
   "execution_count": 70,
   "id": "805f27f0",
   "metadata": {},
   "outputs": [
    {
     "data": {
      "text/plain": [
       "<sqlite3.Cursor at 0x7fddebf2a6c0>"
      ]
     },
     "execution_count": 70,
     "metadata": {},
     "output_type": "execute_result"
    }
   ],
   "source": [
    "cur.execute(delete_sql)"
   ]
  },
  {
   "cell_type": "code",
   "execution_count": 71,
   "id": "76995423",
   "metadata": {},
   "outputs": [
    {
     "name": "stdout",
     "output_type": "stream",
     "text": [
      "(1, 'changed_name', 10.5)\n",
      "(3, 'c_update', 3.14)\n",
      "(4, 'from_model', 100.0)\n"
     ]
    }
   ],
   "source": [
    "for row in cur.execute('select * from person'):\n",
    "    print(row)"
   ]
  },
  {
   "cell_type": "code",
   "execution_count": 73,
   "id": "888b0b36",
   "metadata": {},
   "outputs": [],
   "source": [
    "con.close()"
   ]
  },
  {
   "cell_type": "code",
   "execution_count": null,
   "id": "7fbe34a6",
   "metadata": {},
   "outputs": [],
   "source": []
  },
  {
   "cell_type": "code",
   "execution_count": null,
   "id": "c0eb9e4f",
   "metadata": {},
   "outputs": [],
   "source": []
  }
 ],
 "metadata": {
  "kernelspec": {
   "display_name": "Python 3 (ipykernel)",
   "language": "python",
   "name": "python3"
  },
  "language_info": {
   "codemirror_mode": {
    "name": "ipython",
    "version": 3
   },
   "file_extension": ".py",
   "mimetype": "text/x-python",
   "name": "python",
   "nbconvert_exporter": "python",
   "pygments_lexer": "ipython3",
   "version": "3.8.10"
  }
 },
 "nbformat": 4,
 "nbformat_minor": 5
}
