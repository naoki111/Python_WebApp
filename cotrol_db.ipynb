{
 "cells": [
  {
   "cell_type": "code",
   "execution_count": 1,
   "id": "0d7194cd",
   "metadata": {},
   "outputs": [],
   "source": [
    "import sqlite3"
   ]
  },
  {
   "cell_type": "code",
   "execution_count": 2,
   "id": "2e97a7eb",
   "metadata": {},
   "outputs": [],
   "source": [
    "con  = sqlite3.connect('./test_db')"
   ]
  },
  {
   "cell_type": "code",
   "execution_count": 9,
   "id": "fddbc375",
   "metadata": {},
   "outputs": [
    {
     "name": "stdout",
     "output_type": "stream",
     "text": [
      "(1, 'name_a', 10.5)\n",
      "1\n",
      "1\n",
      "1\n",
      "1\n",
      "name_a\n",
      "name_a\n",
      "name_a\n",
      "name_a\n",
      "10.5\n",
      "10.5\n",
      "10.5\n",
      "10.5\n",
      "(3, 'c_update', 3.14)\n",
      "3\n",
      "3\n",
      "3\n",
      "3\n",
      "c_update\n",
      "c_update\n",
      "c_update\n",
      "c_update\n",
      "3.14\n",
      "3.14\n",
      "3.14\n",
      "3.14\n"
     ]
    }
   ],
   "source": [
    "cur = con.cursor()\n",
    "for row in cur.execute('select * from person'):\n",
    "    print(row)\n",
    "    for column in row:\n",
    "        print(column)\n",
    "        for coulum in row:\n",
    "            print(column)"
   ]
  },
  {
   "cell_type": "code",
   "execution_count": 10,
   "id": "b24fe8c1",
   "metadata": {},
   "outputs": [],
   "source": [
    "insert_sql = ' INSERT INTO person VALUES(?, ?, ?)'"
   ]
  },
  {
   "cell_type": "code",
   "execution_count": 13,
   "id": "0905775c",
   "metadata": {},
   "outputs": [],
   "source": [
    "insert_param = (100, 'name_z', 99.9)"
   ]
  },
  {
   "cell_type": "code",
   "execution_count": 14,
   "id": "4673a861",
   "metadata": {},
   "outputs": [
    {
     "data": {
      "text/plain": [
       "<sqlite3.Cursor at 0x7fde10224650>"
      ]
     },
     "execution_count": 14,
     "metadata": {},
     "output_type": "execute_result"
    }
   ],
   "source": [
    "cur.execute(insert_sql, insert_param)"
   ]
  },
  {
   "cell_type": "code",
   "execution_count": 15,
   "id": "21d54944",
   "metadata": {},
   "outputs": [],
   "source": [
    "con.commit()"
   ]
  },
  {
   "cell_type": "code",
   "execution_count": 16,
   "id": "9dd7e0de",
   "metadata": {},
   "outputs": [
    {
     "data": {
      "text/plain": [
       "<sqlite3.Cursor at 0x7fde10224650>"
      ]
     },
     "execution_count": 16,
     "metadata": {},
     "output_type": "execute_result"
    }
   ],
   "source": [
    "cur.execute('select * from person where size > :size', {'size':10})"
   ]
  },
  {
   "cell_type": "code",
   "execution_count": 17,
   "id": "50256d02",
   "metadata": {},
   "outputs": [
    {
     "name": "stdout",
     "output_type": "stream",
     "text": [
      "[(1, 'name_a', 10.5), (100, 'name_z', 99.9)]\n"
     ]
    }
   ],
   "source": [
    "print(cur.fetchall())"
   ]
  },
  {
   "cell_type": "code",
   "execution_count": 23,
   "id": "51fc1dc5",
   "metadata": {},
   "outputs": [],
   "source": [
    "#con.close()"
   ]
  },
  {
   "cell_type": "code",
   "execution_count": 24,
   "id": "5cc07eb9",
   "metadata": {},
   "outputs": [],
   "source": [
    "#cur.execute('select * from person where size > :size', {'size':10})"
   ]
  },
  {
   "cell_type": "code",
   "execution_count": 25,
   "id": "1aff5b41",
   "metadata": {},
   "outputs": [],
   "source": [
    "insert_sql = ' update person set name = ? where id = ?'"
   ]
  },
  {
   "cell_type": "code",
   "execution_count": 26,
   "id": "bf57b824",
   "metadata": {},
   "outputs": [],
   "source": [
    "insert_param = ('changed_name',1)"
   ]
  },
  {
   "cell_type": "code",
   "execution_count": 27,
   "id": "48b01bf9",
   "metadata": {},
   "outputs": [
    {
     "data": {
      "text/plain": [
       "<sqlite3.Cursor at 0x7fddebedb9d0>"
      ]
     },
     "execution_count": 27,
     "metadata": {},
     "output_type": "execute_result"
    }
   ],
   "source": [
    "cur.execute(insert_sql, insert_param)"
   ]
  },
  {
   "cell_type": "code",
   "execution_count": 28,
   "id": "60f40fdc",
   "metadata": {},
   "outputs": [
    {
     "name": "stdout",
     "output_type": "stream",
     "text": [
      "(1, 'changed_name', 10.5)\n",
      "(3, 'c_update', 3.14)\n",
      "(100, 'name_z', 99.9)\n"
     ]
    }
   ],
   "source": [
    "for row in cur.execute('select * from person'):\n",
    "    print(row)"
   ]
  },
  {
   "cell_type": "code",
   "execution_count": 31,
   "id": "8416da9f",
   "metadata": {},
   "outputs": [],
   "source": [
    "delete_sql = 'delete from person where id = 100'"
   ]
  },
  {
   "cell_type": "code",
   "execution_count": 32,
   "id": "a4de3ed7",
   "metadata": {},
   "outputs": [
    {
     "data": {
      "text/plain": [
       "<sqlite3.Cursor at 0x7fddebedb9d0>"
      ]
     },
     "execution_count": 32,
     "metadata": {},
     "output_type": "execute_result"
    }
   ],
   "source": [
    "cur.execute(delete_sql)"
   ]
  },
  {
   "cell_type": "code",
   "execution_count": 33,
   "id": "33e212d5",
   "metadata": {},
   "outputs": [
    {
     "name": "stdout",
     "output_type": "stream",
     "text": [
      "(1, 'changed_name', 10.5)\n",
      "(3, 'c_update', 3.14)\n"
     ]
    }
   ],
   "source": [
    "for row in cur.execute('select * from person'):\n",
    "    print(row)"
   ]
  },
  {
   "cell_type": "code",
   "execution_count": null,
   "id": "c099be8b",
   "metadata": {},
   "outputs": [],
   "source": []
  }
 ],
 "metadata": {
  "kernelspec": {
   "display_name": "Python 3 (ipykernel)",
   "language": "python",
   "name": "python3"
  },
  "language_info": {
   "codemirror_mode": {
    "name": "ipython",
    "version": 3
   },
   "file_extension": ".py",
   "mimetype": "text/x-python",
   "name": "python",
   "nbconvert_exporter": "python",
   "pygments_lexer": "ipython3",
   "version": "3.8.10"
  }
 },
 "nbformat": 4,
 "nbformat_minor": 5
}
