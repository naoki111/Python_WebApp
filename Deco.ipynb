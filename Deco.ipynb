{
 "cells": [
  {
   "cell_type": "code",
   "execution_count": 1,
   "id": "52f244f2",
   "metadata": {},
   "outputs": [],
   "source": [
    "def param_func():\n",
    "    print('引数関数の中')\n",
    "\n",
    "\n"
   ]
  },
  {
   "cell_type": "code",
   "execution_count": 2,
   "id": "817560a5",
   "metadata": {},
   "outputs": [],
   "source": [
    "def body_func(param_func):\n",
    "    param_func()\n",
    "    body_func(param_func)"
   ]
  },
  {
   "cell_type": "code",
   "execution_count": 3,
   "id": "cd55abbb",
   "metadata": {},
   "outputs": [
    {
     "name": "stdout",
     "output_type": "stream",
     "text": [
      "戻り値関数の中\n"
     ]
    }
   ],
   "source": [
    "def body_func():\n",
    "\tdef return_func():\n",
    "\t\tprint('戻り値関数の中')\n",
    "\treturn return_func\n",
    "\n",
    "return_func = body_func()\n",
    "return_func()\n",
    "\n"
   ]
  },
  {
   "cell_type": "code",
   "execution_count": 4,
   "id": "b212146e",
   "metadata": {},
   "outputs": [
    {
     "name": "stdout",
     "output_type": "stream",
     "text": [
      "引数関数の中\n"
     ]
    }
   ],
   "source": [
    "def body_func(param_func):\n",
    "    def return_func():\n",
    "        param_func()\n",
    "    return return_func\n",
    "return_func = body_func(param_func)\n",
    "return_func() "
   ]
  },
  {
   "cell_type": "code",
   "execution_count": 5,
   "id": "30b5e06c",
   "metadata": {},
   "outputs": [
    {
     "name": "stdout",
     "output_type": "stream",
     "text": [
      "引数関数の中\n",
      "引数関数実行後に文字列を出力\n"
     ]
    }
   ],
   "source": [
    "def body_func(param_func):\n",
    "    def return_func():\n",
    "        param_func()\n",
    "        print('引数関数実行後に文字列を出力')\n",
    "    return return_func\n",
    "return_func = body_func(param_func)\n",
    "return_func() "
   ]
  },
  {
   "cell_type": "code",
   "execution_count": 6,
   "id": "abaabf8d",
   "metadata": {},
   "outputs": [
    {
     "name": "stdout",
     "output_type": "stream",
     "text": [
      "これはテスト関数です\n",
      "引数関数実行後に文字列を出力\n"
     ]
    }
   ],
   "source": [
    "@body_func\n",
    "def test_func():\n",
    "    print('これはテスト関数です')\n",
    "test_func()\n"
   ]
  },
  {
   "cell_type": "code",
   "execution_count": 18,
   "id": "46bd5552",
   "metadata": {},
   "outputs": [],
   "source": [
    "def body_func(a):\n",
    "    def body_func():\n",
    "        def return_func():\n",
    "            res = a\n",
    "            return res\n",
    "        return return_func\n",
    "    return body_func\n",
    "            "
   ]
  },
  {
   "cell_type": "code",
   "execution_count": 19,
   "id": "87ff25d5",
   "metadata": {
    "scrolled": true
   },
   "outputs": [
    {
     "ename": "TypeError",
     "evalue": "body_func() takes 0 positional arguments but 1 was given",
     "output_type": "error",
     "traceback": [
      "\u001b[0;31m---------------------------------------------------------------------------\u001b[0m",
      "\u001b[0;31mTypeError\u001b[0m                                 Traceback (most recent call last)",
      "Input \u001b[0;32mIn [19]\u001b[0m, in \u001b[0;36m<cell line: 1>\u001b[0;34m()\u001b[0m\n\u001b[1;32m      1\u001b[0m \u001b[38;5;129;43m@body_func\u001b[39;49m\u001b[43m(\u001b[49m\u001b[38;5;124;43m\"\u001b[39;49m\u001b[38;5;124;43ma\u001b[39;49m\u001b[38;5;124;43m\"\u001b[39;49m\u001b[43m)\u001b[49m\n\u001b[0;32m----> 2\u001b[0m \u001b[38;5;28;43;01mdef\u001b[39;49;00m\u001b[43m \u001b[49m\u001b[38;5;21;43mtest_func\u001b[39;49m\u001b[43m(\u001b[49m\u001b[43m)\u001b[49m\u001b[43m:\u001b[49m\n\u001b[1;32m      3\u001b[0m \u001b[43m    \u001b[49m\u001b[38;5;28;43mprint\u001b[39;49m\u001b[43m(\u001b[49m\u001b[38;5;124;43m'\u001b[39;49m\u001b[38;5;124;43mこれはテスト関数です\u001b[39;49m\u001b[38;5;124;43m'\u001b[39;49m\u001b[43m)\u001b[49m\n\u001b[1;32m      4\u001b[0m test_func()\n",
      "\u001b[0;31mTypeError\u001b[0m: body_func() takes 0 positional arguments but 1 was given"
     ]
    }
   ],
   "source": [
    "@body_func(\"a\")\n",
    "def test_func():\n",
    "    print('これはテスト関数です')\n",
    "test_func()"
   ]
  },
  {
   "cell_type": "code",
   "execution_count": null,
   "id": "cd6ef5ca",
   "metadata": {},
   "outputs": [],
   "source": []
  }
 ],
 "metadata": {
  "kernelspec": {
   "display_name": "Python 3 (ipykernel)",
   "language": "python",
   "name": "python3"
  },
  "language_info": {
   "codemirror_mode": {
    "name": "ipython",
    "version": 3
   },
   "file_extension": ".py",
   "mimetype": "text/x-python",
   "name": "python",
   "nbconvert_exporter": "python",
   "pygments_lexer": "ipython3",
   "version": "3.8.10"
  }
 },
 "nbformat": 4,
 "nbformat_minor": 5
}
