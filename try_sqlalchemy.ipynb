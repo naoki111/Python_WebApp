{
 "cells": [
  {
   "cell_type": "code",
   "execution_count": 1,
   "id": "40b9f0d0",
   "metadata": {},
   "outputs": [],
   "source": [
    "from sqlalchemy import create_engine\n",
    "from sqlalchemy.orm import Session\n",
    "from test_model import Person"
   ]
  },
  {
   "cell_type": "code",
   "execution_count": 2,
   "id": "1326e858",
   "metadata": {},
   "outputs": [],
   "source": [
    "engine = create_engine('sqlite:///test_db', echo=True)\n",
    "session = Session(engine)"
   ]
  },
  {
   "cell_type": "code",
   "execution_count": 3,
   "id": "16702807",
   "metadata": {},
   "outputs": [
    {
     "name": "stdout",
     "output_type": "stream",
     "text": [
      "2022-06-25 16:06:28,700 INFO sqlalchemy.engine.Engine BEGIN (implicit)\n",
      "2022-06-25 16:06:28,703 INFO sqlalchemy.engine.Engine SELECT person.id AS person_id, person.name AS person_name, person.size AS person_size \n",
      "FROM person\n",
      "2022-06-25 16:06:28,703 INFO sqlalchemy.engine.Engine [generated in 0.00092s] ()\n"
     ]
    }
   ],
   "source": [
    "persons = session.query(Person).all()"
   ]
  },
  {
   "cell_type": "code",
   "execution_count": 4,
   "id": "51f4c3bf",
   "metadata": {},
   "outputs": [
    {
     "name": "stdout",
     "output_type": "stream",
     "text": [
      "id:1 name:name_a size:10.5\n",
      "id:3 name:c_update size:3.14\n",
      "id:4 name:from_model size:100.0\n",
      "id:100 name:name_z size:99.9\n"
     ]
    }
   ],
   "source": [
    "for person in persons:\n",
    "    print(f'id:{person.id} name:{person.name} size:{person.size}')"
   ]
  },
  {
   "cell_type": "code",
   "execution_count": 5,
   "id": "917139e4",
   "metadata": {},
   "outputs": [],
   "source": [
    "new_persion = Person(id=6000, name='from_model', size=100)\n",
    "session.add(new_persion)"
   ]
  },
  {
   "cell_type": "code",
   "execution_count": 6,
   "id": "0b02ee01",
   "metadata": {},
   "outputs": [
    {
     "name": "stdout",
     "output_type": "stream",
     "text": [
      "2022-06-25 16:06:31,233 INFO sqlalchemy.engine.Engine INSERT INTO person (id, name, size) VALUES (?, ?, ?)\n",
      "2022-06-25 16:06:31,235 INFO sqlalchemy.engine.Engine [generated in 0.00236s] (6000, 'from_model', 100.0)\n",
      "2022-06-25 16:06:31,237 INFO sqlalchemy.engine.Engine COMMIT\n"
     ]
    }
   ],
   "source": [
    "session.commit()"
   ]
  },
  {
   "cell_type": "code",
   "execution_count": 7,
   "id": "bf66b97f",
   "metadata": {},
   "outputs": [
    {
     "name": "stdout",
     "output_type": "stream",
     "text": [
      "2022-06-25 16:06:52,813 INFO sqlalchemy.engine.Engine BEGIN (implicit)\n",
      "2022-06-25 16:06:52,815 INFO sqlalchemy.engine.Engine SELECT person.id AS person_id, person.name AS person_name, person.size AS person_size \n",
      "FROM person\n",
      "2022-06-25 16:06:52,816 INFO sqlalchemy.engine.Engine [cached since 24.11s ago] ()\n",
      "{'_sa_instance_state': <sqlalchemy.orm.state.InstanceState object at 0x7fe36e3e5730>, 'name': 'name_a', 'id': 1, 'size': 10.5}\n",
      "{'_sa_instance_state': <sqlalchemy.orm.state.InstanceState object at 0x7fe36e3e56a0>, 'name': 'c_update', 'id': 3, 'size': 3.14}\n",
      "{'_sa_instance_state': <sqlalchemy.orm.state.InstanceState object at 0x7fe36e3e57f0>, 'name': 'from_model', 'id': 4, 'size': 100.0}\n",
      "{'_sa_instance_state': <sqlalchemy.orm.state.InstanceState object at 0x7fe36e3e5880>, 'name': 'name_z', 'id': 100, 'size': 99.9}\n",
      "{'_sa_instance_state': <sqlalchemy.orm.state.InstanceState object at 0x7fe36e3e5340>, 'name': 'from_model', 'id': 6000, 'size': 100.0}\n"
     ]
    }
   ],
   "source": [
    "persons = session.query(Person).all()\n",
    "for person in persons:\n",
    "    print(person.__dict__)"
   ]
  },
  {
   "cell_type": "code",
   "execution_count": 8,
   "id": "bfd2aa0b",
   "metadata": {},
   "outputs": [
    {
     "name": "stdout",
     "output_type": "stream",
     "text": [
      "2022-06-25 16:07:07,049 INFO sqlalchemy.engine.Engine SELECT person.id AS person_id, person.name AS person_name, person.size AS person_size \n",
      "FROM person \n",
      "WHERE person.id = ?\n",
      " LIMIT ? OFFSET ?\n",
      "2022-06-25 16:07:07,052 INFO sqlalchemy.engine.Engine [generated in 0.00248s] (4, 1, 0)\n"
     ]
    }
   ],
   "source": [
    "person4 = session.query(Person).filter(Person.id==4).first()"
   ]
  },
  {
   "cell_type": "code",
   "execution_count": null,
   "id": "f05f3c8b",
   "metadata": {},
   "outputs": [],
   "source": []
  }
 ],
 "metadata": {
  "kernelspec": {
   "display_name": "Python 3 (ipykernel)",
   "language": "python",
   "name": "python3"
  },
  "language_info": {
   "codemirror_mode": {
    "name": "ipython",
    "version": 3
   },
   "file_extension": ".py",
   "mimetype": "text/x-python",
   "name": "python",
   "nbconvert_exporter": "python",
   "pygments_lexer": "ipython3",
   "version": "3.8.10"
  }
 },
 "nbformat": 4,
 "nbformat_minor": 5
}
