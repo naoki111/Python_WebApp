{
 "cells": [
  {
   "cell_type": "code",
   "execution_count": 1,
   "id": "40b9f0d0",
   "metadata": {},
   "outputs": [],
   "source": [
    "from sqlalchemy import create_engine\n",
    "from sqlalchemy.orm import Session\n",
    "from test_model import Person"
   ]
  },
  {
   "cell_type": "code",
   "execution_count": 2,
   "id": "1326e858",
   "metadata": {},
   "outputs": [],
   "source": [
    "engine = create_engine('sqlite:///test_db', echo=True)\n",
    "session = Session(engine)"
   ]
  },
  {
   "cell_type": "code",
   "execution_count": 3,
   "id": "16702807",
   "metadata": {},
   "outputs": [
    {
     "name": "stdout",
     "output_type": "stream",
     "text": [
      "2022-06-25 16:06:28,700 INFO sqlalchemy.engine.Engine BEGIN (implicit)\n",
      "2022-06-25 16:06:28,703 INFO sqlalchemy.engine.Engine SELECT person.id AS person_id, person.name AS person_name, person.size AS person_size \n",
      "FROM person\n",
      "2022-06-25 16:06:28,703 INFO sqlalchemy.engine.Engine [generated in 0.00092s] ()\n"
     ]
    }
   ],
   "source": [
    "persons = session.query(Person).all()"
   ]
  },
  {
   "cell_type": "code",
   "execution_count": 4,
   "id": "51f4c3bf",
   "metadata": {},
   "outputs": [
    {
     "name": "stdout",
     "output_type": "stream",
     "text": [
      "id:1 name:name_a size:10.5\n",
      "id:3 name:c_update size:3.14\n",
      "id:4 name:from_model size:100.0\n",
      "id:100 name:name_z size:99.9\n"
     ]
    }
   ],
   "source": [
    "for person in persons:\n",
    "    print(f'id:{person.id} name:{person.name} size:{person.size}')"
   ]
  },
  {
   "cell_type": "code",
   "execution_count": 5,
   "id": "917139e4",
   "metadata": {},
   "outputs": [],
   "source": [
    "new_persion = Person(id=6000, name='from_model', size=100)\n",
    "session.add(new_persion)"
   ]
  },
  {
   "cell_type": "code",
   "execution_count": 6,
   "id": "0b02ee01",
   "metadata": {},
   "outputs": [
    {
     "name": "stdout",
     "output_type": "stream",
     "text": [
      "2022-06-25 16:06:31,233 INFO sqlalchemy.engine.Engine INSERT INTO person (id, name, size) VALUES (?, ?, ?)\n",
      "2022-06-25 16:06:31,235 INFO sqlalchemy.engine.Engine [generated in 0.00236s] (6000, 'from_model', 100.0)\n",
      "2022-06-25 16:06:31,237 INFO sqlalchemy.engine.Engine COMMIT\n"
     ]
    }
   ],
   "source": [
    "session.commit()"
   ]
  },
  {
   "cell_type": "code",
   "execution_count": 7,
   "id": "bf66b97f",
   "metadata": {},
   "outputs": [
    {
     "name": "stdout",
     "output_type": "stream",
     "text": [
      "2022-06-25 16:06:52,813 INFO sqlalchemy.engine.Engine BEGIN (implicit)\n",
      "2022-06-25 16:06:52,815 INFO sqlalchemy.engine.Engine SELECT person.id AS person_id, person.name AS person_name, person.size AS person_size \n",
      "FROM person\n",
      "2022-06-25 16:06:52,816 INFO sqlalchemy.engine.Engine [cached since 24.11s ago] ()\n",
      "{'_sa_instance_state': <sqlalchemy.orm.state.InstanceState object at 0x7fe36e3e5730>, 'name': 'name_a', 'id': 1, 'size': 10.5}\n",
      "{'_sa_instance_state': <sqlalchemy.orm.state.InstanceState object at 0x7fe36e3e56a0>, 'name': 'c_update', 'id': 3, 'size': 3.14}\n",
      "{'_sa_instance_state': <sqlalchemy.orm.state.InstanceState object at 0x7fe36e3e57f0>, 'name': 'from_model', 'id': 4, 'size': 100.0}\n",
      "{'_sa_instance_state': <sqlalchemy.orm.state.InstanceState object at 0x7fe36e3e5880>, 'name': 'name_z', 'id': 100, 'size': 99.9}\n",
      "{'_sa_instance_state': <sqlalchemy.orm.state.InstanceState object at 0x7fe36e3e5340>, 'name': 'from_model', 'id': 6000, 'size': 100.0}\n"
     ]
    }
   ],
   "source": [
    "persons = session.query(Person).all()\n",
    "for person in persons:\n",
    "    print(person.__dict__)"
   ]
  },
  {
   "cell_type": "code",
   "execution_count": 8,
   "id": "a4d94961",
   "metadata": {},
   "outputs": [
    {
     "name": "stdout",
     "output_type": "stream",
     "text": [
      "2022-06-25 16:07:07,049 INFO sqlalchemy.engine.Engine SELECT person.id AS person_id, person.name AS person_name, person.size AS person_size \n",
      "FROM person \n",
      "WHERE person.id = ?\n",
      " LIMIT ? OFFSET ?\n",
      "2022-06-25 16:07:07,052 INFO sqlalchemy.engine.Engine [generated in 0.00248s] (4, 1, 0)\n"
     ]
    }
   ],
   "source": [
    "person4 = session.query(Person).filter(Person.id==4).first()"
   ]
  },
  {
   "cell_type": "code",
   "execution_count": 9,
   "id": "1a349542",
   "metadata": {},
   "outputs": [],
   "source": [
    "person4.size = 2.236"
   ]
  },
  {
   "cell_type": "code",
   "execution_count": 10,
   "id": "09d0d619",
   "metadata": {},
   "outputs": [
    {
     "name": "stdout",
     "output_type": "stream",
     "text": [
      "2022-06-25 16:07:24,938 INFO sqlalchemy.engine.Engine UPDATE person SET size=? WHERE person.id = ?\n",
      "2022-06-25 16:07:24,940 INFO sqlalchemy.engine.Engine [generated in 0.00240s] (2.236, 4)\n",
      "2022-06-25 16:07:24,942 INFO sqlalchemy.engine.Engine COMMIT\n"
     ]
    }
   ],
   "source": [
    "session.commit()"
   ]
  },
  {
   "cell_type": "code",
   "execution_count": 11,
   "id": "d395fa05",
   "metadata": {},
   "outputs": [
    {
     "name": "stdout",
     "output_type": "stream",
     "text": [
      "2022-06-25 16:07:32,650 INFO sqlalchemy.engine.Engine BEGIN (implicit)\n",
      "2022-06-25 16:07:32,652 INFO sqlalchemy.engine.Engine DELETE FROM person WHERE person.size > ?\n",
      "2022-06-25 16:07:32,653 INFO sqlalchemy.engine.Engine [generated in 0.00082s] (10,)\n"
     ]
    },
    {
     "data": {
      "text/plain": [
       "3"
      ]
     },
     "execution_count": 11,
     "metadata": {},
     "output_type": "execute_result"
    }
   ],
   "source": [
    "session.query(Person).filter(Person.size>10).delete()"
   ]
  },
  {
   "cell_type": "code",
   "execution_count": 12,
   "id": "1a272a63",
   "metadata": {},
   "outputs": [
    {
     "name": "stdout",
     "output_type": "stream",
     "text": [
      "2022-06-25 16:07:41,993 INFO sqlalchemy.engine.Engine COMMIT\n"
     ]
    }
   ],
   "source": [
    "session.commit()"
   ]
  },
  {
   "cell_type": "code",
   "execution_count": 13,
   "id": "6513c09d",
   "metadata": {},
   "outputs": [
    {
     "name": "stdout",
     "output_type": "stream",
     "text": [
      "2022-06-25 16:07:53,434 INFO sqlalchemy.engine.Engine BEGIN (implicit)\n",
      "2022-06-25 16:07:53,436 INFO sqlalchemy.engine.Engine SELECT * FROM person WHERE id = ?\n",
      "2022-06-25 16:07:53,437 INFO sqlalchemy.engine.Engine [generated in 0.00050s] (4,)\n"
     ]
    }
   ],
   "source": [
    "result_list = session.execute('SELECT * FROM person WHERE id = :id', {\"id\":4})"
   ]
  },
  {
   "cell_type": "code",
   "execution_count": 14,
   "id": "221da9d2",
   "metadata": {},
   "outputs": [
    {
     "name": "stdout",
     "output_type": "stream",
     "text": [
      "(4, 'from_model', 2.236)\n"
     ]
    }
   ],
   "source": [
    "for result in result_list:\n",
    "    print(result)"
   ]
  },
  {
   "cell_type": "code",
   "execution_count": 15,
   "id": "77910c80",
   "metadata": {},
   "outputs": [
    {
     "name": "stdout",
     "output_type": "stream",
     "text": [
      "2022-06-25 16:08:18,616 INFO sqlalchemy.engine.Engine ROLLBACK\n"
     ]
    }
   ],
   "source": [
    "session.close()"
   ]
  },
  {
   "cell_type": "code",
   "execution_count": 16,
   "id": "5de4077b",
   "metadata": {},
   "outputs": [],
   "source": [
    "from test_model import Human"
   ]
  },
  {
   "cell_type": "code",
   "execution_count": 17,
   "id": "a06c5224",
   "metadata": {},
   "outputs": [
    {
     "name": "stdout",
     "output_type": "stream",
     "text": [
      "2022-06-25 16:24:26,075 INFO sqlalchemy.engine.Engine BEGIN (implicit)\n",
      "2022-06-25 16:24:26,078 INFO sqlalchemy.engine.Engine SELECT human.id AS human_id, human.name AS human_name, human.height AS human_height, human.weight AS human_weight \n",
      "FROM human\n",
      "2022-06-25 16:24:26,078 INFO sqlalchemy.engine.Engine [generated in 0.00051s] ()\n"
     ]
    }
   ],
   "source": [
    "humans = session.query(Human).all()"
   ]
  },
  {
   "cell_type": "code",
   "execution_count": 19,
   "id": "d2df173f",
   "metadata": {},
   "outputs": [
    {
     "name": "stdout",
     "output_type": "stream",
     "text": [
      "id:1 name:a height:12.0 weight:1.2\n",
      "id:2 name:b height:12.2 weight:1.2\n",
      "id:3 name:c height:122.2 weight:122.2\n"
     ]
    }
   ],
   "source": [
    "for human in humans:\n",
    "    print(f'id:{human.id} name:{human.name} height:{human.height} weight:{human.weight}')"
   ]
  },
  {
   "cell_type": "code",
   "execution_count": 21,
   "id": "690797a1",
   "metadata": {},
   "outputs": [],
   "source": [
    "new_persion = Human(id=6000, name='from_model', height=100, weight=100)\n",
    "session.add(new_persion)"
   ]
  },
  {
   "cell_type": "code",
   "execution_count": 22,
   "id": "a71d62a7",
   "metadata": {},
   "outputs": [
    {
     "name": "stdout",
     "output_type": "stream",
     "text": [
      "2022-06-25 16:27:58,826 INFO sqlalchemy.engine.Engine INSERT INTO human (id, name, height, weight) VALUES (?, ?, ?, ?)\n",
      "2022-06-25 16:27:58,828 INFO sqlalchemy.engine.Engine [generated in 0.00187s] (6000, 'from_model', 100.0, 100.0)\n",
      "2022-06-25 16:27:58,829 INFO sqlalchemy.engine.Engine COMMIT\n"
     ]
    }
   ],
   "source": [
    "session.commit()"
   ]
  },
  {
   "cell_type": "code",
   "execution_count": 25,
   "id": "484add16",
   "metadata": {},
   "outputs": [
    {
     "name": "stdout",
     "output_type": "stream",
     "text": [
      "2022-06-25 16:36:08,059 INFO sqlalchemy.engine.Engine SELECT human.id AS human_id, human.name AS human_name, human.height AS human_height, human.weight AS human_weight \n",
      "FROM human \n",
      "WHERE human.id = ?\n",
      " LIMIT ? OFFSET ?\n",
      "2022-06-25 16:36:08,060 INFO sqlalchemy.engine.Engine [generated in 0.00157s] (1, 1, 0)\n"
     ]
    }
   ],
   "source": [
    "human4 = session.query(Human).filter(Human.id==1).first()\n"
   ]
  },
  {
   "cell_type": "code",
   "execution_count": 26,
   "id": "db38875d",
   "metadata": {},
   "outputs": [],
   "source": [
    "human4.height = 2.236"
   ]
  },
  {
   "cell_type": "code",
   "execution_count": 27,
   "id": "3f49c3d0",
   "metadata": {},
   "outputs": [
    {
     "name": "stdout",
     "output_type": "stream",
     "text": [
      "2022-06-25 16:36:55,546 INFO sqlalchemy.engine.Engine UPDATE human SET height=? WHERE human.id = ?\n",
      "2022-06-25 16:36:55,547 INFO sqlalchemy.engine.Engine [generated in 0.00124s] (2.236, 1)\n",
      "2022-06-25 16:36:55,549 INFO sqlalchemy.engine.Engine COMMIT\n"
     ]
    }
   ],
   "source": [
    "session.commit()"
   ]
  },
  {
   "cell_type": "code",
   "execution_count": 28,
   "id": "bb7a5b11",
   "metadata": {},
   "outputs": [
    {
     "name": "stdout",
     "output_type": "stream",
     "text": [
      "2022-06-25 16:39:57,629 INFO sqlalchemy.engine.Engine BEGIN (implicit)\n",
      "2022-06-25 16:39:57,631 INFO sqlalchemy.engine.Engine DELETE FROM human WHERE human.weight = ?\n",
      "2022-06-25 16:39:57,631 INFO sqlalchemy.engine.Engine [generated in 0.00043s] (1.2,)\n"
     ]
    },
    {
     "data": {
      "text/plain": [
       "2"
      ]
     },
     "execution_count": 28,
     "metadata": {},
     "output_type": "execute_result"
    }
   ],
   "source": [
    "session.query(Human).filter(Human.weight == 1.2).delete()"
   ]
  },
  {
   "cell_type": "code",
   "execution_count": 29,
   "id": "d99307fd",
   "metadata": {},
   "outputs": [
    {
     "name": "stdout",
     "output_type": "stream",
     "text": [
      "2022-06-25 16:40:23,371 INFO sqlalchemy.engine.Engine COMMIT\n"
     ]
    }
   ],
   "source": [
    "session.commit()"
   ]
  },
  {
   "cell_type": "code",
   "execution_count": null,
   "id": "0c5d3a63",
   "metadata": {},
   "outputs": [],
   "source": [
    "humans = session.query(Human).all()\n",
    "for human in humans:\n",
    "    print(.__dict__)"
   ]
  }
 ],
 "metadata": {
  "kernelspec": {
   "display_name": "Python 3 (ipykernel)",
   "language": "python",
   "name": "python3"
  },
  "language_info": {
   "codemirror_mode": {
    "name": "ipython",
    "version": 3
   },
   "file_extension": ".py",
   "mimetype": "text/x-python",
   "name": "python",
   "nbconvert_exporter": "python",
   "pygments_lexer": "ipython3",
   "version": "3.8.10"
  }
 },
 "nbformat": 4,
 "nbformat_minor": 5
}
